{
 "cells": [
  {
   "cell_type": "code",
   "execution_count": 1,
   "metadata": {
    "collapsed": false
   },
   "outputs": [],
   "source": [
    "import pickle\n",
    "from sklearn.datasets import fetch_mldata\n",
    "from sklearn.decomposition import PCA\n",
    "\n",
    "mnist = fetch_mldata('MNIST original')\n",
    "\n",
    "n_samples = len(mnist.data)\n",
    "X = mnist.data.reshape((n_samples, -1))\n",
    "y = mnist.target\n",
    "\n",
    "target = open('target.pkl', 'w')\n",
    "pickle.dump(y, target)\n",
    "target.close()\n",
    "\n",
    "components = [ 25, 50, 100 ]\n",
    "\n",
    "for c in components:\n",
    "    copy_X = X\n",
    "    filename = 'data-{0}-components.pkl'.format(c)\n",
    "    pca = PCA(n_components=c)\n",
    "    pca.fit(copy_X)\n",
    "    PCA_X = pca.transform(copy_X)\n",
    "    data = open(filename, 'w')\n",
    "    pickle.dump(PCA_X, data)\n",
    "    data.close()\n",
    "\n",
    "\n"
   ]
  },
  {
   "cell_type": "code",
   "execution_count": null,
   "metadata": {
    "collapsed": true
   },
   "outputs": [],
   "source": []
  }
 ],
 "metadata": {
  "anaconda-cloud": {},
  "kernelspec": {
   "display_name": "Python [default]",
   "language": "python",
   "name": "python2"
  },
  "language_info": {
   "codemirror_mode": {
    "name": "ipython",
    "version": 2
   },
   "file_extension": ".py",
   "mimetype": "text/x-python",
   "name": "python",
   "nbconvert_exporter": "python",
   "pygments_lexer": "ipython2",
   "version": "2.7.12"
  }
 },
 "nbformat": 4,
 "nbformat_minor": 1
}
